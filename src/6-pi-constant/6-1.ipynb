{
 "cells": [
  {
   "cell_type": "code",
   "execution_count": 1,
   "outputs": [],
   "source": [
    "import math\n",
    "import matplotlib.pyplot as plt\n",
    "from tabulate import tabulate\n",
    "import numpy as np"
   ],
   "metadata": {
    "collapsed": false,
    "ExecuteTime": {
     "end_time": "2023-11-24T10:46:35.212697Z",
     "start_time": "2023-11-24T10:46:34.842951Z"
    }
   },
   "id": "c482fb404d2aff96"
  },
  {
   "cell_type": "code",
   "execution_count": 22,
   "outputs": [],
   "source": [
    "circle_centre: tuple[float, float] = (0.5, 0.5)\n",
    "circle_radius: float = 0.5\n",
    "precisions: list[int] = [100, 1000, 10000, 1000000, 100000000]"
   ],
   "metadata": {
    "collapsed": false,
    "ExecuteTime": {
     "end_time": "2023-11-24T10:55:41.787031Z",
     "start_time": "2023-11-24T10:55:41.781294Z"
    }
   },
   "id": "affe6abe4b17f6ec"
  },
  {
   "cell_type": "code",
   "execution_count": 3,
   "id": "initial_id",
   "metadata": {
    "collapsed": true,
    "ExecuteTime": {
     "end_time": "2023-11-24T10:46:35.221189Z",
     "start_time": "2023-11-24T10:46:35.216436Z"
    }
   },
   "outputs": [],
   "source": [
    "def scatter_sand_grains(number_of_grains: int) -> list[tuple[float, float]]:\n",
    "    x_coordinates = np.random.rand(number_of_grains)\n",
    "    y_coordinates = np.random.rand(number_of_grains)\n",
    "    \n",
    "    return list(zip(x_coordinates, y_coordinates))"
   ]
  },
  {
   "cell_type": "code",
   "execution_count": 4,
   "outputs": [],
   "source": [
    "def is_in_circle(grain: tuple[float, float]) -> bool:\n",
    "    in_circle: bool = False\n",
    "    x1: float = circle_centre[0]\n",
    "    y1: float = circle_centre[1]\n",
    "    x2: float = grain[0]\n",
    "    y2: float = grain[1]\n",
    "    if math.sqrt((x2 - x1)**2 + (y2 - y1)**2) <= circle_radius:\n",
    "        in_circle = True\n",
    "    \n",
    "    return in_circle\n",
    "\n",
    "def calculate_n_small(grains: list[tuple[float, float]]) -> int:\n",
    "    n: int = 0\n",
    "    for grain in grains:\n",
    "        if is_in_circle(grain):\n",
    "            n += 1\n",
    "    \n",
    "    return n"
   ],
   "metadata": {
    "collapsed": false,
    "ExecuteTime": {
     "end_time": "2023-11-24T10:46:35.225197Z",
     "start_time": "2023-11-24T10:46:35.221816Z"
    }
   },
   "id": "96aa5e5fe2844df0"
  },
  {
   "cell_type": "code",
   "execution_count": 5,
   "outputs": [],
   "source": [
    "def calculate_pi_with(number_of_grains: int) -> float:\n",
    "    grains: list[tuple[float, float]] = scatter_sand_grains(number_of_grains)\n",
    "    n: int = calculate_n_small(grains)\n",
    "    \n",
    "    return 4 * n / number_of_grains"
   ],
   "metadata": {
    "collapsed": false,
    "ExecuteTime": {
     "end_time": "2023-11-24T10:46:35.229464Z",
     "start_time": "2023-11-24T10:46:35.226348Z"
    }
   },
   "id": "66ac92813591c714"
  },
  {
   "cell_type": "code",
   "execution_count": 6,
   "outputs": [],
   "source": [
    "def calculate_pi() -> list[tuple[int, float]]:\n",
    "    results: list[tuple[int, float]] = []\n",
    "    for precision in precisions:\n",
    "        results.append((precision, calculate_pi_with(precision)))\n",
    "    \n",
    "    return results"
   ],
   "metadata": {
    "collapsed": false,
    "ExecuteTime": {
     "end_time": "2023-11-24T10:46:35.233320Z",
     "start_time": "2023-11-24T10:46:35.229311Z"
    }
   },
   "id": "9c27d9487da9af63"
  },
  {
   "cell_type": "code",
   "execution_count": 25,
   "outputs": [],
   "source": [
    "def see_results() -> None:\n",
    "    pi_variants: list[tuple[int, float]] = calculate_pi()\n",
    "    headers = [\"N\"] + [f\"{n}\" for n, _ in pi_variants]\n",
    "    values = [\"π\"] + [f\"{pi:.4f}\" for _, pi in pi_variants]\n",
    "    table_data = [headers, values]\n",
    "    formatted_table = tabulate(table_data, tablefmt=\"grid\")\n",
    "    print(formatted_table)\n",
    "    \n",
    "    \n",
    "    \n",
    "    n_values, pi_values = zip(*pi_variants)\n",
    "    log_n_values = np.log10(n_values)\n",
    "    \n",
    "    plt.plot(log_n_values, pi_values, marker='o', linestyle='-', color='b')\n",
    "    plt.axhline(y=3.14159265359, color='r', linestyle='--', label='π = 3.14')\n",
    "    plt.title('π vs. Log of Number of Grains')\n",
    "    plt.xlabel('Log10(N)')\n",
    "    plt.ylabel('π')\n",
    "    plt.grid(True)\n",
    "    plt.show()"
   ],
   "metadata": {
    "collapsed": false,
    "ExecuteTime": {
     "end_time": "2023-11-24T10:57:37.652827Z",
     "start_time": "2023-11-24T10:57:37.648113Z"
    }
   },
   "id": "6a7c5e680f6bbcd3"
  },
  {
   "cell_type": "code",
   "execution_count": 26,
   "outputs": [
    {
     "name": "stdout",
     "output_type": "stream",
     "text": [
      "+---+-------+----------+------------+--------+--------+\n",
      "| N | 100   | 1000     | 10000      | 1e+06  | 1e+08  |\n",
      "+---+-------+----------+------------+--------+--------+\n",
      "| π |   3.4 |    3.244 |     3.1416 | 3.1404 | 3.1414 |\n",
      "+---+-------+----------+------------+--------+--------+\n"
     ]
    },
    {
     "data": {
      "text/plain": "<Figure size 640x480 with 1 Axes>",
      "image/png": "[encoded data removed]"
     },
     "metadata": {},
     "output_type": "display_data"
    }
   ],
   "source": [
    "see_results()"
   ],
   "metadata": {
    "collapsed": false,
    "ExecuteTime": {
     "end_time": "2023-11-24T10:58:34.356681Z",
     "start_time": "2023-11-24T10:57:38.979992Z"
    }
   },
   "id": "51f4b1e5c2052a8b"
  }
 ],
 "metadata": {
  "kernelspec": {
   "display_name": "Python 3",
   "language": "python",
   "name": "python3"
  },
  "language_info": {
   "codemirror_mode": {
    "name": "ipython",
    "version": 2
   },
   "file_extension": ".py",
   "mimetype": "text/x-python",
   "name": "python",
   "nbconvert_exporter": "python",
   "pygments_lexer": "ipython2",
   "version": "2.7.6"
  }
 },
 "nbformat": 4,
 "nbformat_minor": 5
}
