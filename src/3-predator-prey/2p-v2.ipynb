{
 "cells": [
  {
   "cell_type": "code",
   "execution_count": 1,
   "id": "initial_id",
   "metadata": {
    "collapsed": true,
    "ExecuteTime": {
     "end_time": "2023-11-16T20:29:13.207519Z",
     "start_time": "2023-11-16T20:29:12.875792Z"
    }
   },
   "outputs": [],
   "source": [
    "import matplotlib.pyplot as plt\n",
    "import numpy as np"
   ]
  },
  {
   "cell_type": "markdown",
   "source": [
    "Common constants"
   ],
   "metadata": {
    "collapsed": false
   },
   "id": "37a3be03c7102c95"
  },
  {
   "cell_type": "code",
   "execution_count": 2,
   "outputs": [],
   "source": [
    "t_start = 0\n",
    "t_end = 200\n",
    "h = 0.1"
   ],
   "metadata": {
    "collapsed": false,
    "ExecuteTime": {
     "end_time": "2023-11-16T20:29:13.213647Z",
     "start_time": "2023-11-16T20:29:13.208599Z"
    }
   },
   "id": "27cb91302ac992e4"
  },
  {
   "cell_type": "markdown",
   "source": [
    "Stationary case constants"
   ],
   "metadata": {
    "collapsed": false
   },
   "id": "4d8f96396d67c51f"
  },
  {
   "cell_type": "code",
   "execution_count": 3,
   "outputs": [],
   "source": [
    "a1 = 0.1\n",
    "b1 = 0.02\n",
    "c1 = 0.1\n",
    "e1 = 0.01\n",
    "R01 = c1 / e1\n",
    "P01 = a1 / b1"
   ],
   "metadata": {
    "collapsed": false,
    "ExecuteTime": {
     "end_time": "2023-11-16T20:29:13.218821Z",
     "start_time": "2023-11-16T20:29:13.213067Z"
    }
   },
   "id": "d70fcd70be5d84f6"
  },
  {
   "cell_type": "markdown",
   "source": [
    "Non-stationary case constants (small deviation from stationary case)"
   ],
   "metadata": {
    "collapsed": false
   },
   "id": "fa7fcd993068ebf4"
  },
  {
   "cell_type": "code",
   "execution_count": 4,
   "outputs": [],
   "source": [
    "a2 = 0.1\n",
    "b2 = 0.02\n",
    "c2 = 0.1\n",
    "e2 = 0.01\n",
    "R02 = R01 + 5\n",
    "P02 = P01 + 2"
   ],
   "metadata": {
    "collapsed": false,
    "ExecuteTime": {
     "end_time": "2023-11-16T20:29:13.223147Z",
     "start_time": "2023-11-16T20:29:13.217241Z"
    }
   },
   "id": "a1639a6d3dad62de"
  },
  {
   "cell_type": "markdown",
   "source": [
    "Non-stationary case constants (large deviation from stationary case)"
   ],
   "metadata": {
    "collapsed": false
   },
   "id": "d0329e7c3924c270"
  },
  {
   "cell_type": "code",
   "execution_count": 5,
   "outputs": [],
   "source": [
    "a3 = 0.1\n",
    "b3 = 0.02\n",
    "c3 = 0.1\n",
    "e3 = 0.01\n",
    "R03 = R01 + 20\n",
    "P03 = P01 - 5"
   ],
   "metadata": {
    "collapsed": false,
    "ExecuteTime": {
     "end_time": "2023-11-16T20:29:13.228044Z",
     "start_time": "2023-11-16T20:29:13.221809Z"
    }
   },
   "id": "1079a1ef941c184b"
  },
  {
   "cell_type": "code",
   "execution_count": 6,
   "outputs": [],
   "source": [
    "def predator_prey_system(t, y, a, b, c, e) -> np.ndarray:\n",
    "    \"\"\"\n",
    "    Function representing the predator-prey system of differential equations.\n",
    "    y[0] - R (prey), y[1] - P (predator).\n",
    "    :param t_p: time\n",
    "    :param y_p: array of R and P\n",
    "    :param a_p: arbitrary parameter\n",
    "    :param b_p: arbitrary parameter\n",
    "    :param c_p: arbitrary parameter\n",
    "    :param e_p: arbitrary parameter\n",
    "    :return: array of dR/dt and dP/dt\n",
    "    \"\"\"\n",
    "    dR_dt = a * y[0] - b * y[0] * y[1]\n",
    "    dP_dt = -c * y[1] + e * y[0] * y[1]\n",
    "    \n",
    "    return np.array([dR_dt, dP_dt])"
   ],
   "metadata": {
    "collapsed": false,
    "ExecuteTime": {
     "end_time": "2023-11-16T20:29:13.236038Z",
     "start_time": "2023-11-16T20:29:13.227207Z"
    }
   },
   "id": "78367c7681104e30"
  },
  {
   "cell_type": "code",
   "execution_count": 7,
   "outputs": [],
   "source": [
    "def runge_kutta_step(func, t_c, y_c, *params):\n",
    "    \"\"\"\n",
    "    One step of the Runge-Kutta method.\n",
    "    :param func: \n",
    "    :param t_c: time\n",
    "    :param y_c: array of R and P values\n",
    "    :param params: arbitrary parameters\n",
    "    :return: array of R and P values after one step\n",
    "    \"\"\"\n",
    "    k1 = h * func(t_c, y_c, *params)\n",
    "    k2 = h * func(t_c + 0.5 * h, y_c + 0.5 * k1, *params)\n",
    "    k3 = h * func(t_c + 0.5 * h, y_c + 0.5 * k2, *params)\n",
    "    k4 = h * func(t_c + h, y_c + k3, *params)\n",
    "\n",
    "    return y_c + (k1 + 2 * k2 + 2 * k3 + k4) / 6"
   ],
   "metadata": {
    "collapsed": false,
    "ExecuteTime": {
     "end_time": "2023-11-16T20:29:13.236195Z",
     "start_time": "2023-11-16T20:29:13.231617Z"
    }
   },
   "id": "473628ff46ff92c9"
  },
  {
   "cell_type": "code",
   "execution_count": 11,
   "outputs": [],
   "source": [
    "def solve_system(a, b, c, e, R0, P0) -> (np.ndarray, np.ndarray):\n",
    "    \"\"\"\n",
    "    Solves the predator-prey system of differential equations using the Runge-Kutta method.\n",
    "    :param a: arbitrary parameter\n",
    "    :param b: arbitrary parameter\n",
    "    :param c: arbitrary parameter\n",
    "    :param e: arbitrary parameter\n",
    "    :param R0: initial prey population\n",
    "    :param P0: initial predator population\n",
    "    :return: array of time values, array of R and P values\n",
    "    \"\"\"\n",
    "    num_steps = int((t_end - t_start) / h) + 1\n",
    "    t_values = np.linspace(t_start, t_end, num_steps)\n",
    "    y_values = np.zeros((num_steps, 2))\n",
    "    y_values[0] = np.array([R0, P0])\n",
    "\n",
    "    for i in range(1, num_steps):\n",
    "        y_values[i] = runge_kutta_step(predator_prey_system, t_values[i - 1], y_values[i - 1], a, b, c, e)\n",
    "\n",
    "    return t_values, y_values"
   ],
   "metadata": {
    "collapsed": false,
    "ExecuteTime": {
     "end_time": "2023-11-16T20:30:01.980939Z",
     "start_time": "2023-11-16T20:30:01.972898Z"
    }
   },
   "id": "daebe5a655a0355d"
  },
  {
   "cell_type": "code",
   "execution_count": 12,
   "outputs": [],
   "source": [
    "t_values1, y_values1 = solve_system(a1, b1, c1, e1, R01, P01)\n",
    "t_values2, y_values2 = solve_system(a2, b2, c2, e2, R02, P02)\n",
    "t_values3, y_values3 = solve_system(a3, b3, c3, e3, R03, P03)"
   ],
   "metadata": {
    "collapsed": false,
    "ExecuteTime": {
     "end_time": "2023-11-16T20:30:02.748912Z",
     "start_time": "2023-11-16T20:30:02.661700Z"
    }
   },
   "id": "d1617957814e4824"
  },
  {
   "cell_type": "code",
   "execution_count": 13,
   "outputs": [
    {
     "data": {
      "text/plain": "<Figure size 1500x500 with 3 Axes>",
      "image/png": "[encoded data removed]"
     },
     "metadata": {},
     "output_type": "display_data"
    }
   ],
   "source": [
    "# Plot Case 1\n",
    "plt.figure(figsize=(15, 5))\n",
    "plt.subplot(1, 3, 1)\n",
    "plt.plot(y_values1[:, 0], y_values1[:, 1])\n",
    "plt.title('Stationary State')\n",
    "plt.xlabel('Prey (R)')\n",
    "plt.ylabel('Predator (P)')\n",
    "\n",
    "# Plot Case 2\n",
    "plt.subplot(1, 3, 2)\n",
    "plt.plot(y_values2[:, 0], y_values2[:, 1])\n",
    "plt.title('Small Deviation from Stationary State')\n",
    "plt.xlabel('Prey (R)')\n",
    "plt.ylabel('Predator (P)')\n",
    "\n",
    "# Plot Case 3\n",
    "plt.subplot(1, 3, 3)\n",
    "plt.plot(y_values3[:, 0], y_values3[:, 1])\n",
    "plt.title('Large Deviation from Stationary State')\n",
    "plt.xlabel('Prey (R)')\n",
    "plt.ylabel('Predator (P)')\n",
    "\n",
    "plt.tight_layout()\n",
    "plt.show()"
   ],
   "metadata": {
    "collapsed": false,
    "ExecuteTime": {
     "end_time": "2023-11-16T20:30:25.313926Z",
     "start_time": "2023-11-16T20:30:25.079125Z"
    }
   },
   "id": "11b07df0d6bad53a"
  },
  {
   "cell_type": "code",
   "execution_count": null,
   "outputs": [],
   "source": [
    "plt.plot(t, y[:, 0], label='Prey (R)')\n",
    "plt.plot(t, y[:, 1], label='Predator (P)')\n",
    "plt.title('Population Dynamics over Time')\n",
    "plt.xlabel('Time')\n",
    "plt.ylabel('Population')\n",
    "plt.legend()\n",
    "plt.show()"
   ],
   "metadata": {
    "collapsed": false,
    "ExecuteTime": {
     "start_time": "2023-11-16T20:29:13.392782Z"
    }
   },
   "id": "f9a4e55fe2bb420c"
  },
  {
   "cell_type": "code",
   "execution_count": null,
   "outputs": [],
   "source": [],
   "metadata": {
    "collapsed": false,
    "ExecuteTime": {
     "start_time": "2023-11-16T20:29:13.393417Z"
    }
   },
   "id": "63da54e55dfb1d85"
  }
 ],
 "metadata": {
  "kernelspec": {
   "display_name": "Python 3",
   "language": "python",
   "name": "python3"
  },
  "language_info": {
   "codemirror_mode": {
    "name": "ipython",
    "version": 2
   },
   "file_extension": ".py",
   "mimetype": "text/x-python",
   "name": "python",
   "nbconvert_exporter": "python",
   "pygments_lexer": "ipython2",
   "version": "2.7.6"
  }
 },
 "nbformat": 4,
 "nbformat_minor": 5
}
