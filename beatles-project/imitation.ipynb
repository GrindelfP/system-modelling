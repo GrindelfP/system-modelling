{
 "nbformat": 4,
 "nbformat_minor": 0,
 "metadata": {
  "colab": {
   "provenance": [],
   "authorship_tag": "ABX9TyOF1nQCIXAG3p4E/aHiEgcN",
   "include_colab_link": true
  },
  "kernelspec": {
   "name": "python3",
   "language": "python",
   "display_name": "Python 3 (ipykernel)"
  },
  "language_info": {
   "name": "python"
  }
 },
 "cells": [
  {
   "cell_type": "markdown",
   "metadata": {
    "id": "view-in-github",
    "colab_type": "text"
   },
   "source": [
    "<a href=\"https://colab.research.google.com/github/GrindelfP/beatles-project/blob/main/MS_task1_imitation.ipynb\" target=\"_parent\"><img src=\"https://colab.research.google.com/assets/colab-badge.svg\" alt=\"Open In Colab\"/></a>"
   ]
  },
  {
   "cell_type": "markdown",
   "source": [
    "## Imports"
   ],
   "metadata": {
    "id": "4WG7J1DTYbmJ"
   }
  },
  {
   "cell_type": "code",
   "source": [
    "import matplotlib.pyplot as plt\n",
    "import math"
   ],
   "metadata": {
    "id": "NqIPn_DUYg98",
    "ExecuteTime": {
     "end_time": "2023-10-13T06:58:19.750276Z",
     "start_time": "2023-10-13T06:58:19.748290Z"
    }
   },
   "execution_count": 25,
   "outputs": []
  },
  {
   "cell_type": "markdown",
   "source": [
    "## Constants"
   ],
   "metadata": {
    "id": "l4UFFobRXsD0"
   }
  },
  {
   "cell_type": "code",
   "execution_count": 26,
   "metadata": {
    "id": "xhTNlqAVXghw",
    "ExecuteTime": {
     "end_time": "2023-10-13T06:58:19.754131Z",
     "start_time": "2023-10-13T06:58:19.750602Z"
    }
   },
   "outputs": [],
   "source": [
    "dt: float = 0.0001 # time period\n",
    "a: int = 10 # side\n",
    "v0: int = 10 # velocity\n",
    "iterations: int = int(a / dt)"
   ]
  },
  {
   "cell_type": "markdown",
   "source": [
    "## Position class"
   ],
   "metadata": {
    "id": "2pfavTWsYBn3"
   }
  },
  {
   "cell_type": "code",
   "source": [
    "class Position:\n",
    "  def __init__(self, x, y):\n",
    "    self.x = x\n",
    "    self.y = y"
   ],
   "metadata": {
    "id": "uqVEO5RzYELK",
    "ExecuteTime": {
     "end_time": "2023-10-13T06:58:19.757245Z",
     "start_time": "2023-10-13T06:58:19.754035Z"
    }
   },
   "execution_count": 27,
   "outputs": []
  },
  {
   "cell_type": "markdown",
   "source": [
    "## Coordinate formulae"
   ],
   "metadata": {
    "id": "5Nh5k2zMazzQ"
   }
  },
  {
   "cell_type": "code",
   "source": [
    "def get_alpha(position: Position) -> float:\n",
    "  x1 = position.x\n",
    "  y1 = position.y\n",
    "  x2 = a - y1\n",
    "  y2 = x1\n",
    "\n",
    "  return math.atan2((y2 - y1), (x2 - x1))\n",
    "\n",
    "\n",
    "def get_next_position(position: Position, alpha: float) -> Position:\n",
    "  # capture previous coordinates, which will be updated\n",
    "  xp = position.x\n",
    "  yp = position.y\n",
    "\n",
    "  return Position(xp + v0 * dt * math.cos(alpha), yp + v0 * dt * math.sin(alpha))\n"
   ],
   "metadata": {
    "id": "W0okc5XYa0Cs",
    "ExecuteTime": {
     "end_time": "2023-10-13T06:58:19.760762Z",
     "start_time": "2023-10-13T06:58:19.757487Z"
    }
   },
   "execution_count": 28,
   "outputs": []
  },
  {
   "cell_type": "markdown",
   "source": [
    "## Traceing the beatles"
   ],
   "metadata": {
    "id": "2Bbzqr3fakxC"
   }
  },
  {
   "cell_type": "code",
   "source": [
    "# placing the beatles on their initial positions\n",
    "b1: Position = Position(0.0, 0.0)\n",
    "b2: Position = Position(10.0, 0.0)\n",
    "b3: Position = Position(10.0, 10.0)\n",
    "b4: Position = Position(0.0, 10.0)\n",
    "\n",
    "# initializing beatles' positions sequences\n",
    "b1_positions: list = [b1]\n",
    "b2_positions: list = [b2]\n",
    "b3_positions: list = [b3]\n",
    "b4_positions: list = [b4]\n",
    "\n",
    "for i in range(iterations):\n",
    "  current_beatle_position = b1_positions[-1] # last position in trace\n",
    "  alpha = get_alpha(current_beatle_position) # alpha is common due to symmetry\n",
    "  b1_positions.append(get_next_position(current_beatle_position, alpha))\n",
    "  # calculating the remaining beatles positions symetrically\n",
    "  b2_positions.append(Position(a - b1_positions[-1].y, b1_positions[-1].x))\n",
    "  b3_positions.append(Position(a - b2_positions[-1].y, b2_positions[-1].x))\n",
    "  b4_positions.append(Position(a - b3_positions[-1].y, b3_positions[-1].x))\n"
   ],
   "metadata": {
    "id": "F-PHlZJeannX",
    "ExecuteTime": {
     "end_time": "2023-10-13T06:58:20.170794Z",
     "start_time": "2023-10-13T06:58:19.792653Z"
    }
   },
   "execution_count": 29,
   "outputs": []
  },
  {
   "cell_type": "markdown",
   "source": [
    "## Plotting"
   ],
   "metadata": {
    "id": "pUhXUpO8hgQx"
   }
  },
  {
   "cell_type": "code",
   "source": [
    "# Create a figure and axis.\n",
    "fig, ax = plt.subplots()\n",
    "\n",
    "# Extract the x and y coordinates for each beatle.\n",
    "b1_x: list = []\n",
    "b1_y: list = []\n",
    "b2_x: list = []\n",
    "b2_y: list = []\n",
    "b3_x: list = []\n",
    "b3_y: list = []\n",
    "b4_x: list = []\n",
    "b4_y: list = []\n",
    "for i in range(len(b1_positions)):\n",
    "  b1_x.append(b1_positions[i].x)\n",
    "  b1_y.append(b1_positions[i].y)\n",
    "  b2_x.append(b2_positions[i].x)\n",
    "  b2_y.append(b2_positions[i].y)\n",
    "  b3_x.append(b3_positions[i].x)\n",
    "  b3_y.append(b3_positions[i].y)\n",
    "  b4_x.append(b4_positions[i].x)\n",
    "  b4_y.append(b4_positions[i].y)\n",
    "\n",
    "# Plot the four lines with different colors.\n",
    "ax.plot(b1_x, b1_y, color='red', label='Beatle 1')\n",
    "ax.plot(b2_x, b2_y, color='green', label='Beatle 2')\n",
    "ax.plot(b3_x, b3_y, color='blue', label='Beatle 3')\n",
    "ax.plot(b4_x, b4_y, color='yellow', label='Beatle 4')\n",
    "\n",
    "# Set the axis labels.\n",
    "ax.set_xlabel('X')\n",
    "ax.set_ylabel('Y')\n",
    "\n",
    "# Add a legend.\n",
    "ax.legend()\n",
    "\n",
    "# Show the plot.\n",
    "plt.show()"
   ],
   "metadata": {
    "colab": {
     "base_uri": "https://localhost:8080/",
     "height": 449
    },
    "id": "rxHdSqVShhie",
    "outputId": "b3e91b33-d311-445c-a434-525f57d9af98",
    "ExecuteTime": {
     "end_time": "2023-10-13T06:58:20.890259Z",
     "start_time": "2023-10-13T06:58:20.248359Z"
    }
   },
   "execution_count": 30,
   "outputs": [
    {
     "data": {
      "text/plain": "<Figure size 640x480 with 1 Axes>",
      "image/png": "[encoded data removed]"
     },
     "metadata": {},
     "output_type": "display_data"
    }
   ]
  }
 ]
}
